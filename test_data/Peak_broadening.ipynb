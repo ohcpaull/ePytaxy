{
 "cells": [
  {
   "cell_type": "code",
   "execution_count": 25,
   "metadata": {},
   "outputs": [],
   "source": [
    "import numpy as np\n",
    "from matplotlib import pyplot as plt\n",
    "\n",
    "YAG = np.array( np.loadtxt('YAG.csv', skiprows=1, delimiter=',', usecols=(0,1)) )\n",
    "YAG_ann = np.array( np.loadtxt('YAG_annealed.csv', skiprows=2, delimiter=',', usecols=(0,1)) )\n",
    "Excimer = np.array( np.loadtxt('Excimer.csv', skiprows=1, delimiter=',', usecols=(0,1)) )\n",
    "\n",
    "sim = np.array( np.loadtxt('test_1.txt'))"
   ]
  },
  {
   "cell_type": "code",
   "execution_count": 28,
   "metadata": {},
   "outputs": [
    {
     "data": {
      "text/plain": [
       "array([0.00000000e+00, 1.00005556e-02, 2.00011111e-02, ...,\n",
       "       1.79989999e+02, 1.79999999e+02, 1.80010000e+02])"
      ]
     },
     "execution_count": 28,
     "metadata": {},
     "output_type": "execute_result"
    }
   ],
   "source": [
    "sim[0]"
   ]
  },
  {
   "cell_type": "code",
   "execution_count": 29,
   "metadata": {},
   "outputs": [
    {
     "data": {
      "application/vnd.jupyter.widget-view+json": {
       "model_id": "7b9fbf1ac303429080f695e24ebe039f",
       "version_major": 2,
       "version_minor": 0
      },
      "text/plain": [
       "Canvas(toolbar=Toolbar(toolitems=[('Home', 'Reset original view', 'home', 'home'), ('Back', 'Back to previous …"
      ]
     },
     "metadata": {},
     "output_type": "display_data"
    },
    {
     "data": {
      "text/plain": [
       "<matplotlib.legend.Legend at 0x1c7c8676048>"
      ]
     },
     "execution_count": 29,
     "metadata": {},
     "output_type": "execute_result"
    }
   ],
   "source": [
    "%matplotlib widget\n",
    "fig, ax = plt.subplots()\n",
    "\n",
    "ax.plot(YAG[:,0], YAG[:,1]/10**3, label='YAG')\n",
    "ax.plot(YAG_ann[:,0], YAG_ann[:,1], label='YAG annealed')\n",
    "ax.plot(Excimer[:,0], Excimer[:,1]/10**6, label='Excimer')\n",
    "ax.plot(sim[0], sim[1])\n",
    "\n",
    "ax.set_yscale('log')\n",
    "ax.legend()\n"
   ]
  },
  {
   "cell_type": "code",
   "execution_count": 13,
   "metadata": {},
   "outputs": [
    {
     "data": {
      "text/plain": [
       "array([ 15.005,  15.015,  15.025, ..., 114.975, 114.985, 114.995])"
      ]
     },
     "execution_count": 13,
     "metadata": {},
     "output_type": "execute_result"
    }
   ],
   "source": [
    "dat1[:,0]"
   ]
  },
  {
   "cell_type": "code",
   "execution_count": null,
   "metadata": {},
   "outputs": [],
   "source": []
  }
 ],
 "metadata": {
  "kernelspec": {
   "display_name": "Python 3",
   "language": "python",
   "name": "python3"
  },
  "language_info": {
   "codemirror_mode": {
    "name": "ipython",
    "version": 3
   },
   "file_extension": ".py",
   "mimetype": "text/x-python",
   "name": "python",
   "nbconvert_exporter": "python",
   "pygments_lexer": "ipython3",
   "version": "3.7.4"
  }
 },
 "nbformat": 4,
 "nbformat_minor": 4
}
