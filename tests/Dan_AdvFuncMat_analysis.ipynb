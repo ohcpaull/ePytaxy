{
 "cells": [
  {
   "cell_type": "code",
   "execution_count": 2,
   "metadata": {},
   "outputs": [],
   "source": [
    "import numpy as np\n",
    "from matplotlib import pyplot as plt\n",
    "from epytaxy import Film, Substrate\n",
    "\n",
    "def plot( x1, y1, y2, fig=None, ax=None, **kwargs ):\n",
    "    \n",
    "    %matplotlib widget\n",
    "    if fig == None:\n",
    "        fig, ax = plt.subplots(1,2)\n",
    "\n",
    "#ax[0].plot(YAG[:,0], YAG[:,1]/10**4, label='YAG')\n",
    "#ax.plot(YAG_ann[:,0], YAG_ann[:,1], label='YAG annealed')\n",
    "#ax.plot(Excimer[:,0], Excimer[:,1]/10**6, label='Excimer')\n",
    "    ax[0].plot(x1, y1, color='blue', **kwargs)\n",
    "    #ax[0].plot(film.ttheta, I2, label='gaussian filter', color='red')\n",
    "    ax[0].set_xlabel('2-theta (degrees)')\n",
    "    ax[0].set_ylabel('Intensity (a.u.)')\n",
    "    ax[0].set_yscale('log')\n",
    "    ax[0].set_xlim(15, 25)\n",
    "    ax[0].legend()\n",
    "\n",
    "\n",
    "#ax[1].plot(film1.cz)\n",
    "    ax[1].plot(y2)\n",
    "    ax[1].set_title('C-axis')\n",
    "    \n",
    "    return fig, ax\n",
    "\n",
    "ttrange = (15,50)\n",
    "sigma = 0.1\n",
    "FWHM = 2 * np.sqrt(2 * np.log(2)) * sigma"
   ]
  },
  {
   "cell_type": "markdown",
   "metadata": {},
   "source": [
    "# Test 1: Compare convolutions"
   ]
  },
  {
   "cell_type": "code",
   "execution_count": 12,
   "metadata": {},
   "outputs": [
    {
     "name": "stderr",
     "output_type": "stream",
     "text": [
      "100%|███████████████████████████████████████████████████████████████████████████| 10000/10000 [00:11<00:00, 856.78it/s]\n"
     ]
    }
   ],
   "source": [
    "substrate = Substrate( \"DyScO3\", \"001\", ttrange=ttrange)"
   ]
  },
  {
   "cell_type": "code",
   "execution_count": 14,
   "metadata": {},
   "outputs": [
    {
     "name": "stdout",
     "output_type": "stream",
     "text": [
      "d-spacing is 3.965\n",
      "unit cell volume is 62.33465712499999\n",
      "-58.36965712499999\n"
     ]
    },
    {
     "name": "stderr",
     "output_type": "stream",
     "text": [
      "100%|████████████████████████████████████████████████████████████████████████████████| 120/120 [00:09<00:00, 13.27it/s]\n"
     ]
    },
    {
     "name": "stdout",
     "output_type": "stream",
     "text": [
      "1330.8195514768477\n"
     ]
    },
    {
     "data": {
      "application/vnd.jupyter.widget-view+json": {
       "model_id": "",
       "version_major": 2,
       "version_minor": 0
      },
      "text/plain": [
       "Canvas(toolbar=Toolbar(toolitems=[('Home', 'Reset original view', 'home', 'home'), ('Back', 'Back to previous …"
      ]
     },
     "metadata": {},
     "output_type": "display_data"
    },
    {
     "data": {
      "text/plain": [
       "[<matplotlib.lines.Line2D at 0x271c06be788>]"
      ]
     },
     "execution_count": 14,
     "metadata": {},
     "output_type": "execute_result"
    }
   ],
   "source": [
    "ttrange = (15,50)\n",
    "sigma = 0.05\n",
    "FWHM = 2 * np.sqrt(2 * np.log(2)) * sigma\n",
    "\n",
    "film1 = Film(\"BiFeO3\", \"001\", N=120, ttrange=ttrange)\n",
    "film1.determine_relaxation(substrate, \"XRDFit\")\n",
    "\n",
    "\n",
    "amp1 = np.array(film1.test_scattering_amplitude(FWHM))\n",
    "\n",
    "\n",
    "# Normalise amplitude values\n",
    "maxVal = np.max(np.abs(amp1))\n",
    "print(maxVal)\n",
    "normAmp = amp1/np.abs(np.max(amp1))\n",
    "\n",
    "#Convolute film G with gaussian\n",
    "filt = signal.gaussian( len(amp1), FWHM/(ttrange[1] - ttrange[0]) * len(amp1) )\n",
    "amp1c = signal.convolve( normAmp, filt, mode='same', method='auto') \n",
    "amp1cn = amp1c/np.max(np.abs(amp1c))\n",
    "#print(np.max(np.abs(amp1cn)))\n",
    "\n",
    "#Restore to initial intensity\n",
    "amp1c = amp1cn * maxVal\n",
    "\n",
    "scatterc = amp1c + substrate.g\n",
    "\n",
    "scatter = amp1 + substrate.g\n",
    "\n",
    "I = np.real( scatter * np.conj(scatter) )\n",
    "Ic = np.real( scatterc * np.conj(scatterc) )\n",
    "\n",
    "%matplotlib widget\n",
    "fig, ax = plt.subplots(1, 2)\n",
    "\n",
    "\n",
    "ax[0].plot( film1.ttheta, I, label=\"No conv\")\n",
    "ax[0].plot( film1.ttheta, Ic, label=\"Conv\")\n",
    "\n",
    "ax[0].set_yscale('log')\n",
    "ax[0].legend()\n",
    "ax[1].plot(film1.cz)\n",
    "ax[1].plot(film.cz)\n"
   ]
  },
  {
   "cell_type": "markdown",
   "metadata": {},
   "source": [
    "# Test 2: Compare c-axis distributions"
   ]
  },
  {
   "cell_type": "code",
   "execution_count": 42,
   "metadata": {},
   "outputs": [
    {
     "name": "stderr",
     "output_type": "stream",
     "text": [
      "100%|███████████████████████████████████████████████████████████████████████████| 10000/10000 [00:11<00:00, 853.26it/s]\n"
     ]
    }
   ],
   "source": [
    "ttrange = (21,23)\n",
    "substrate = Substrate( \"DyScO3\", \"001\", ttrange=ttrange)"
   ]
  },
  {
   "cell_type": "code",
   "execution_count": 12,
   "metadata": {},
   "outputs": [
    {
     "name": "stdout",
     "output_type": "stream",
     "text": [
      "d-spacing is 3.965\n",
      "unit cell volume is 62.33465712499999\n"
     ]
    },
    {
     "ename": "NameError",
     "evalue": "name 'substrate' is not defined",
     "output_type": "error",
     "traceback": [
      "\u001b[1;31m---------------------------------------------------------------------------\u001b[0m",
      "\u001b[1;31mNameError\u001b[0m                                 Traceback (most recent call last)",
      "\u001b[1;32m<ipython-input-12-a65909148c99>\u001b[0m in \u001b[0;36m<module>\u001b[1;34m\u001b[0m\n\u001b[0;32m     15\u001b[0m \u001b[1;33m\u001b[0m\u001b[0m\n\u001b[0;32m     16\u001b[0m \u001b[0mfilm1\u001b[0m \u001b[1;33m=\u001b[0m \u001b[0mFilm\u001b[0m\u001b[1;33m(\u001b[0m\u001b[1;34m\"BiFeO3\"\u001b[0m\u001b[1;33m,\u001b[0m \u001b[1;34m\"001\"\u001b[0m\u001b[1;33m,\u001b[0m \u001b[0mN\u001b[0m\u001b[1;33m=\u001b[0m\u001b[1;36m70\u001b[0m\u001b[1;33m,\u001b[0m \u001b[0mttrange\u001b[0m\u001b[1;33m=\u001b[0m\u001b[0mttrange\u001b[0m\u001b[1;33m)\u001b[0m \u001b[1;31m# Make film with no strain relaxation\u001b[0m\u001b[1;33m\u001b[0m\u001b[1;33m\u001b[0m\u001b[0m\n\u001b[1;32m---> 17\u001b[1;33m \u001b[0mfilm1\u001b[0m\u001b[1;33m.\u001b[0m\u001b[0mdetermine_relaxation\u001b[0m\u001b[1;33m(\u001b[0m\u001b[0msubstrate\u001b[0m\u001b[1;33m,\u001b[0m \u001b[1;34m\"None\"\u001b[0m\u001b[1;33m)\u001b[0m\u001b[1;33m\u001b[0m\u001b[1;33m\u001b[0m\u001b[0m\n\u001b[0m\u001b[0;32m     18\u001b[0m \u001b[1;33m\u001b[0m\u001b[0m\n\u001b[0;32m     19\u001b[0m \u001b[0mfilm2\u001b[0m \u001b[1;33m=\u001b[0m \u001b[0mFilm\u001b[0m\u001b[1;33m(\u001b[0m\u001b[1;34m\"BiFeO3\"\u001b[0m\u001b[1;33m,\u001b[0m \u001b[1;34m\"001\"\u001b[0m\u001b[1;33m,\u001b[0m \u001b[0mN\u001b[0m\u001b[1;33m=\u001b[0m\u001b[1;36m70\u001b[0m\u001b[1;33m,\u001b[0m \u001b[0mttrange\u001b[0m\u001b[1;33m=\u001b[0m\u001b[0mttrange\u001b[0m\u001b[1;33m)\u001b[0m \u001b[1;31m# Make film with strain relaxation\u001b[0m\u001b[1;33m\u001b[0m\u001b[1;33m\u001b[0m\u001b[0m\n",
      "\u001b[1;31mNameError\u001b[0m: name 'substrate' is not defined"
     ]
    }
   ],
   "source": [
    "def  calc_FWHM( x, y, ax=None):\n",
    "    from scipy.interpolate import UnivariateSpline\n",
    "    \n",
    "\n",
    "    # create a spline of x and blue-np.max(blue)/2 \n",
    "    spline = UnivariateSpline(x, y-np.max(y)/2, s=0)\n",
    "    r1, r2 = spline.roots() # find the roots\n",
    "    if ax is not None:\n",
    "        ax.axvspan(r1, r2, facecolor='g', alpha=0.5)\n",
    "    \n",
    "    return (r2 - r1)\n",
    "\n",
    "sigma = 0.1\n",
    "FWHM = 2 * np.sqrt(2 * np.log(2)) * sigma\n",
    "\n",
    "film1 = Film(\"BiFeO3\", \"001\", N=70, ttrange=ttrange) # Make film with no strain relaxation\n",
    "film1.determine_relaxation(substrate, \"None\")\n",
    "\n",
    "film2 = Film(\"BiFeO3\", \"001\", N=70, ttrange=ttrange) # Make film with strain relaxation\n",
    "film2.determine_relaxation(substrate, relaxation='XRDFit', A=-0.09, B=200, D=4.07 )"
   ]
  },
  {
   "cell_type": "markdown",
   "metadata": {},
   "source": [
    "## Make 3 instances of Film to plot the 001, 002, and 003 diffraction peaks"
   ]
  },
  {
   "cell_type": "code",
   "execution_count": 17,
   "metadata": {},
   "outputs": [
    {
     "name": "stderr",
     "output_type": "stream",
     "text": [
      "100%|███████████████████████████████████████████████████████████████████████████| 10000/10000 [00:11<00:00, 856.06it/s]\n",
      "100%|███████████████████████████████████████████████████████████████████████████| 10000/10000 [00:11<00:00, 856.39it/s]\n",
      "100%|███████████████████████████████████████████████████████████████████████████| 10000/10000 [00:11<00:00, 857.43it/s]\n"
     ]
    },
    {
     "name": "stdout",
     "output_type": "stream",
     "text": [
      "d-spacing is 3.965\n",
      "unit cell volume is 62.33465712499999\n",
      "d-spacing is 3.965\n",
      "unit cell volume is 62.33465712499999\n",
      "d-spacing is 3.965\n",
      "unit cell volume is 62.33465712499999\n"
     ]
    }
   ],
   "source": [
    "\n",
    "\n",
    "FWHM = 0.00\n",
    "range1 = (21,24)\n",
    "range2 = (44,47)\n",
    "range3 = (70,73)\n",
    "\n",
    "sub1 = Substrate( \"DyScO3\", \"001\", ttrange=range1)\n",
    "sub2 = Substrate( \"DyScO3\", \"001\", ttrange=range2)\n",
    "sub3 = Substrate( \"DyScO3\", \"001\", ttrange=range3)\n",
    "\n",
    "\n",
    "film1 = Film(\"BiFeO3\", \"001\", N=70, ttrange=range1)\n",
    "film2 = Film(\"BiFeO3\", \"001\", N=70, ttrange=range2)\n",
    "film3 = Film(\"BiFeO3\", \"001\", N=70, ttrange=range3)"
   ]
  },
  {
   "cell_type": "code",
   "execution_count": 76,
   "metadata": {},
   "outputs": [
    {
     "name": "stdout",
     "output_type": "stream",
     "text": [
      "1151.7294174429608\n",
      "1057.5157343587064\n",
      "675.8426648250403\n"
     ]
    },
    {
     "data": {
      "application/vnd.jupyter.widget-view+json": {
       "model_id": "",
       "version_major": 2,
       "version_minor": 0
      },
      "text/plain": [
       "Canvas(toolbar=Toolbar(toolitems=[('Home', 'Reset original view', 'home', 'home'), ('Back', 'Back to previous …"
      ]
     },
     "metadata": {},
     "output_type": "display_data"
    },
    {
     "data": {
      "text/plain": [
       "<matplotlib.legend.Legend at 0x283a621e8c8>"
      ]
     },
     "execution_count": 76,
     "metadata": {},
     "output_type": "execute_result"
    }
   ],
   "source": [
    "#film1.determine_relaxation(sub1, relaxation='XRDFit', A=-0.09, B=200, D=4.07 )\n",
    "#film2.determine_relaxation(sub2, relaxation='XRDFit', A=-0.09, B=200, D=4.07 )\n",
    "#film3.determine_relaxation(sub3, relaxation='XRDFit', A=-0.09, B=200, D=4.07 )\n",
    "c_axes = doc\n",
    "film1.cz = c_axes\n",
    "film2.cz = c_axes\n",
    "film3.cz = c_axes\n",
    "\n",
    "amp11 = convolute( np.array(film1.scattering_amplitude(FWHM)), FWHM, range1)\n",
    "I11 = np.real( amp11 * np.conj(amp11) )\n",
    "\n",
    "\n",
    "\n",
    "amp21 = convolute( np.array(film2.scattering_amplitude(FWHM)), FWHM, range2 )\n",
    "I21 = np.real( amp21 * np.conj(amp21) )\n",
    "\n",
    "\n",
    "\n",
    "amp31 = convolute( np.array(film3.scattering_amplitude(FWHM)), FWHM, range3 )\n",
    "I31 = np.real( amp31 * np.conj(amp31) )\n",
    "\n",
    "\n",
    "film1.determine_relaxation(sub1, relaxation='None')\n",
    "film2.determine_relaxation(sub2, relaxation='None')\n",
    "film3.determine_relaxation(sub3, relaxation='None')\n",
    "\n",
    "amp12 = np.array(film1.scattering_amplitude(FWHM))\n",
    "I12 = np.real( amp12 * np.conj(amp12) )\n",
    "\n",
    "amp22 = np.array(film2.scattering_amplitude(FWHM))\n",
    "I22 = np.real( amp22 * np.conj(amp22) )\n",
    "\n",
    "amp32 = np.array(film3.scattering_amplitude(FWHM))\n",
    "I32 = np.real( amp32 * np.conj(amp32) )\n",
    "\n",
    "%matplotlib widget\n",
    "fig, ax = plt.subplots(1, 3)\n",
    "\n",
    "\n",
    "ax[0].plot( film1.ttheta, I11, label=\"relax\")\n",
    "ax[0].plot( film1.ttheta, I12, label=\"const\")\n",
    "ax[0].set_yscale('log')\n",
    "ax[0].set_title('(001) peak')\n",
    "ax[1].plot( film2.ttheta, I21, label=\"relax\")\n",
    "ax[1].plot( film2.ttheta, I22, label=\"const\")\n",
    "ax[1].set_yscale('log')\n",
    "ax[1].set_title('(002) peak')\n",
    "ax[2].plot( film3.ttheta, I31, label=\"relax\")\n",
    "ax[2].plot( film3.ttheta, I32, label=\"const\")\n",
    "ax[2].set_yscale('log')\n",
    "ax[2].set_title('(003) peak')\n",
    "#ax[1].plot(film1.cz)\n",
    "#ax[1].plot(film2.cz)\n",
    "#ax[0].set_yscale('log')\n",
    "#ax[0].legend()\n",
    "ax[0].legend()\n",
    "ax[1].legend()\n",
    "ax[2].legend()\n"
   ]
  },
  {
   "cell_type": "code",
   "execution_count": 77,
   "metadata": {},
   "outputs": [
    {
     "data": {
      "application/vnd.jupyter.widget-view+json": {
       "model_id": "",
       "version_major": 2,
       "version_minor": 0
      },
      "text/plain": [
       "Canvas(toolbar=Toolbar(toolitems=[('Home', 'Reset original view', 'home', 'home'), ('Back', 'Back to previous …"
      ]
     },
     "metadata": {},
     "output_type": "display_data"
    },
    {
     "data": {
      "text/plain": [
       "<matplotlib.legend.Legend at 0x283a1627188>"
      ]
     },
     "execution_count": 77,
     "metadata": {},
     "output_type": "execute_result"
    }
   ],
   "source": [
    "FWHM1 = calc_FWHM( film1.ttheta, I11, ax=ax[0])\n",
    "FWHM2 = calc_FWHM( film2.ttheta, I21, ax=ax[1])\n",
    "FWHM3 = calc_FWHM( film3.ttheta, I31, ax=ax[2])\n",
    "\n",
    "FWHM4 = calc_FWHM( film1.ttheta, I12)\n",
    "FWHM5 = calc_FWHM( film2.ttheta, I22)\n",
    "FWHM6 = calc_FWHM( film3.ttheta, I32)\n",
    "\n",
    "\n",
    "fig1, ax1 = plt.subplots()\n",
    "\n",
    "plt.plot( ['001', '002', '003'], [FWHM1, FWHM2, FWHM3], label='with relaxation' )\n",
    "plt.plot( ['001', '002', '003'], [FWHM4, FWHM5, FWHM6], label='w/out relaxation' )\n",
    "plt.xlabel('Diffraction order')\n",
    "plt.ylabel('FWHM')\n",
    "plt.title(\"Peak broadening without strain gradient\")\n",
    "plt.legend()"
   ]
  },
  {
   "cell_type": "code",
   "execution_count": 102,
   "metadata": {},
   "outputs": [
    {
     "name": "stdout",
     "output_type": "stream",
     "text": [
      "-58.36965712499999\n",
      "-58.36965712499999\n"
     ]
    },
    {
     "data": {
      "application/vnd.jupyter.widget-view+json": {
       "model_id": "",
       "version_major": 2,
       "version_minor": 0
      },
      "text/plain": [
       "Canvas(toolbar=Toolbar(toolitems=[('Home', 'Reset original view', 'home', 'home'), ('Back', 'Back to previous …"
      ]
     },
     "metadata": {},
     "output_type": "display_data"
    },
    {
     "data": {
      "text/plain": [
       "[<matplotlib.lines.Line2D at 0x271df7e8688>]"
      ]
     },
     "execution_count": 102,
     "metadata": {},
     "output_type": "execute_result"
    },
    {
     "data": {
      "image/png": "[encoded data removed]",
      "text/plain": [
       "<Figure size 432x288 with 1 Axes>"
      ]
     },
     "metadata": {
      "needs_background": "light"
     },
     "output_type": "display_data"
    }
   ],
   "source": [
    "\n",
    "\n",
    "film1.determine_relaxation(sub1, relaxation='XRDFit', A=-0.09, B=200, D=4.07 )\n",
    "film2.determine_relaxation(sub1, relaxation='None')\n",
    "plt.plot(film1.cz)\n",
    "plt.plot(film2.cz)"
   ]
  },
  {
   "cell_type": "code",
   "execution_count": 2,
   "metadata": {},
   "outputs": [],
   "source": [
    "fpath = r'C:\\Users\\olive\\OneDrive - UNSW\\code\\epytaxy\\test\\\\'\n",
    "YAG = np.array( np.loadtxt(fpath + 'YAG.csv', skiprows=1, delimiter=',', usecols=(0,1)) )\n",
    "YAG_ann = np.array( np.loadtxt(fpath + 'YAG_annealed.csv', skiprows=2, delimiter=',', usecols=(0,1)) )\n",
    "Excimer = np.array( np.loadtxt(fpath + 'Excimer.csv', skiprows=1, delimiter=',', usecols=(0,1)) )\n",
    "\n",
    "def rescale_intensity( intensity, factor ):\n",
    "    return ( intensity * factor )"
   ]
  },
  {
   "cell_type": "code",
   "execution_count": 3,
   "metadata": {},
   "outputs": [
    {
     "name": "stdout",
     "output_type": "stream",
     "text": [
      "Creating substrate...\n"
     ]
    },
    {
     "name": "stderr",
     "output_type": "stream",
     "text": [
      "100%|███████████████████████████████████████████████████████████████████████████| 10000/10000 [00:31<00:00, 316.69it/s]\n"
     ]
    }
   ],
   "source": [
    "ttrange = (15,50)\n",
    "print('Creating substrate...')\n",
    "substrate = Substrate( \"DyScO3\", \"001\", ttrange=ttrange)\n",
    "#subg = substrate.g/max(substrate.g)"
   ]
  },
  {
   "cell_type": "code",
   "execution_count": 12,
   "metadata": {},
   "outputs": [],
   "source": [
    "def normalized(a, axis=-1, order=2):\n",
    "    l2 = np.atleast_1d(np.linalg.norm(a, order, axis))\n",
    "    l2[l2==0] = 1\n",
    "    return a / np.expand_dims(l2, axis)"
   ]
  },
  {
   "cell_type": "code",
   "execution_count": 5,
   "metadata": {},
   "outputs": [
    {
     "ename": "NameError",
     "evalue": "name 'film' is not defined",
     "output_type": "error",
     "traceback": [
      "\u001b[1;31m---------------------------------------------------------------------------\u001b[0m",
      "\u001b[1;31mNameError\u001b[0m                                 Traceback (most recent call last)",
      "\u001b[1;32m<ipython-input-5-b39be9f7d2ee>\u001b[0m in \u001b[0;36m<module>\u001b[1;34m\u001b[0m\n\u001b[1;32m----> 1\u001b[1;33m \u001b[0mfilm_G2\u001b[0m \u001b[1;33m=\u001b[0m \u001b[0mnp\u001b[0m\u001b[1;33m.\u001b[0m\u001b[0marray\u001b[0m\u001b[1;33m(\u001b[0m\u001b[0mfilm\u001b[0m\u001b[1;33m.\u001b[0m\u001b[0mscattering_amplitude\u001b[0m\u001b[1;33m(\u001b[0m\u001b[0mFWHM\u001b[0m\u001b[1;33m)\u001b[0m\u001b[1;33m)\u001b[0m\u001b[1;33m\u001b[0m\u001b[1;33m\u001b[0m\u001b[0m\n\u001b[0m\u001b[0;32m      2\u001b[0m \u001b[1;33m\u001b[0m\u001b[0m\n\u001b[0;32m      3\u001b[0m \u001b[0mf_abs\u001b[0m \u001b[1;33m=\u001b[0m \u001b[0mmax\u001b[0m\u001b[1;33m(\u001b[0m\u001b[0mabs\u001b[0m\u001b[1;33m(\u001b[0m\u001b[0mfilm_G2\u001b[0m\u001b[1;33m)\u001b[0m\u001b[1;33m)\u001b[0m\u001b[1;33m\u001b[0m\u001b[1;33m\u001b[0m\u001b[0m\n\u001b[0;32m      4\u001b[0m \u001b[0mfilt\u001b[0m \u001b[1;33m=\u001b[0m \u001b[0msignal\u001b[0m\u001b[1;33m.\u001b[0m\u001b[0mgaussian\u001b[0m\u001b[1;33m(\u001b[0m \u001b[0mlen\u001b[0m\u001b[1;33m(\u001b[0m\u001b[0mfG\u001b[0m\u001b[1;33m)\u001b[0m\u001b[1;33m,\u001b[0m \u001b[0mFWHM\u001b[0m\u001b[1;33m/\u001b[0m\u001b[1;33m(\u001b[0m\u001b[0mttrange\u001b[0m\u001b[1;33m[\u001b[0m\u001b[1;36m1\u001b[0m\u001b[1;33m]\u001b[0m \u001b[1;33m-\u001b[0m \u001b[0mttrange\u001b[0m\u001b[1;33m[\u001b[0m\u001b[1;36m0\u001b[0m\u001b[1;33m]\u001b[0m\u001b[1;33m)\u001b[0m \u001b[1;33m*\u001b[0m \u001b[0mlen\u001b[0m\u001b[1;33m(\u001b[0m\u001b[0mfG\u001b[0m\u001b[1;33m)\u001b[0m \u001b[1;33m)\u001b[0m\u001b[1;33m\u001b[0m\u001b[1;33m\u001b[0m\u001b[0m\n\u001b[0;32m      5\u001b[0m \u001b[0mmosaG2\u001b[0m \u001b[1;33m=\u001b[0m \u001b[0msignal\u001b[0m\u001b[1;33m.\u001b[0m\u001b[0mconvolve\u001b[0m\u001b[1;33m(\u001b[0m \u001b[0mfG\u001b[0m\u001b[1;33m,\u001b[0m \u001b[0mfilt\u001b[0m\u001b[1;33m,\u001b[0m \u001b[0mmode\u001b[0m\u001b[1;33m=\u001b[0m\u001b[1;34m'same'\u001b[0m\u001b[1;33m,\u001b[0m \u001b[0mmethod\u001b[0m\u001b[1;33m=\u001b[0m\u001b[1;34m'auto'\u001b[0m\u001b[1;33m)\u001b[0m\u001b[1;33m\u001b[0m\u001b[1;33m\u001b[0m\u001b[0m\n",
      "\u001b[1;31mNameError\u001b[0m: name 'film' is not defined"
     ]
    }
   ],
   "source": [
    "film_G2 = np.array(film.scattering_amplitude(FWHM))\n",
    "\n",
    "f_abs = max(abs(film_G2))\n",
    "filt = signal.gaussian( len(fG), FWHM/(ttrange[1] - ttrange[0]) * len(fG) )\n",
    "mosaG2 = signal.convolve( fG, filt, mode='same', method='auto')\n",
    "\n",
    "scat = subG + mosaG2\n",
    "\n",
    "I = np.real( scat * np.conj(scat) )\n",
    "\n"
   ]
  },
  {
   "cell_type": "code",
   "execution_count": 9,
   "metadata": {},
   "outputs": [
    {
     "name": "stdout",
     "output_type": "stream",
     "text": [
      "Creating film...\n",
      "d-spacing is 3.965\n",
      "unit cell volume is 62.33465712499999\n",
      "-58.36965712499999\n"
     ]
    },
    {
     "name": "stderr",
     "output_type": "stream",
     "text": [
      "100%|████████████████████████████████████████████████████████████████████████████████| 300/300 [00:53<00:00,  5.59it/s]\n"
     ]
    },
    {
     "data": {
      "application/vnd.jupyter.widget-view+json": {
       "model_id": "",
       "version_major": 2,
       "version_minor": 0
      },
      "text/plain": [
       "Canvas(toolbar=Toolbar(toolitems=[('Home', 'Reset original view', 'home', 'home'), ('Back', 'Back to previous …"
      ]
     },
     "metadata": {},
     "output_type": "display_data"
    },
    {
     "data": {
      "text/plain": [
       "[<matplotlib.lines.Line2D at 0x12a51a5c648>]"
      ]
     },
     "execution_count": 9,
     "metadata": {},
     "output_type": "execute_result"
    }
   ],
   "source": [
    "sigma = 0.03\n",
    "FWHM = 2 * np.sqrt(2 * np.log(2)) * sigma\n",
    "\n",
    "print('Creating film...')\n",
    "film = Film(\"BiFeO3\", \"001\", N=300, ttrange=ttrange)\n",
    "film.determine_relaxation( substrate, relaxation='XRDFit', A=-0.05, B=200, D=4.1 )\n",
    "film_G = np.array(film.test_scattering_amplitude(FWHM)) \n",
    "\n",
    "\n",
    "\n",
    "film_abs = max( abs(film_G) )\n",
    "sub_abs = max( abs(substrate.g) )\n",
    "\n",
    "#normalise film and substrate G\n",
    "fG = normalized(film_G)[0,:]\n",
    "subG = normalized(substrate.g)[0,:]\n",
    "\n",
    "#Convolute film G with gaussian\n",
    "filt = signal.gaussian( len(fG), FWHM/(ttrange[1] - ttrange[0]) * len(fG) )\n",
    "mosaG = signal.convolve( film_G, filt, mode='same', method='auto') \n",
    "\n",
    "#Restor to original size\n",
    "#mosaG = mosaG * film_abs\n",
    "#subG = subG * sub_abs\n",
    "\n",
    "\n",
    "scatter1 = substrate.g + film_G\n",
    "scatter2 = subG + mosaG\n",
    "\n",
    "\n",
    "I1 = np.real( scatter1 * np.conj(scatter1) )\n",
    "I2 = np.real( scatter2 * np.conj(scatter2) )\n",
    "\n",
    "%matplotlib widget\n",
    "fig, ax = plt.subplots(1,2)\n",
    "\n",
    "#ax[0].plot(YAG[:,0], YAG[:,1]/10**4, label='YAG')\n",
    "#ax.plot(YAG_ann[:,0], YAG_ann[:,1], label='YAG annealed')\n",
    "#ax.plot(Excimer[:,0], Excimer[:,1]/10**6, label='Excimer')\n",
    "ax[0].plot(film.ttheta, I1, label='NO gaussian filter', color='blue')\n",
    "ax[0].plot(film.ttheta, I2, label='gaussian filter', color='red')\n",
    "\n",
    "ax[0].set_yscale('log')\n",
    "ax[0].set_xlim(15, 25)\n",
    "ax[0].legend()\n",
    "\n",
    "\n",
    "#ax[1].plot(film1.cz)\n",
    "ax[1].plot(film.cz)"
   ]
  },
  {
   "cell_type": "markdown",
   "metadata": {},
   "source": [
    "# Testing different relaxation profiles"
   ]
  },
  {
   "cell_type": "code",
   "execution_count": 1,
   "metadata": {},
   "outputs": [
    {
     "name": "stderr",
     "output_type": "stream",
     "text": [
      "100%|███████████████████████████████████████████████████████████████████████████| 10000/10000 [00:29<00:00, 342.50it/s]\n"
     ]
    }
   ],
   "source": [
    "import numpy as np\n",
    "from matplotlib import pyplot as plt\n",
    "from epytaxy import Film, Substrate\n",
    "from scipy import signal\n",
    "\n",
    "ttrange = (15,50)\n",
    "sub1 = Substrate( \"DyScO3\", \"001\", ttrange=ttrange)"
   ]
  },
  {
   "cell_type": "code",
   "execution_count": 2,
   "metadata": {},
   "outputs": [
    {
     "name": "stdout",
     "output_type": "stream",
     "text": [
      "d-spacing is 3.965\n",
      "unit cell volume is 62.33465712499999\n"
     ]
    },
    {
     "data": {
      "application/vnd.jupyter.widget-view+json": {
       "model_id": "",
       "version_major": 2,
       "version_minor": 0
      },
      "text/plain": [
       "Canvas(toolbar=Toolbar(toolitems=[('Home', 'Reset original view', 'home', 'home'), ('Back', 'Back to previous …"
      ]
     },
     "metadata": {},
     "output_type": "display_data"
    },
    {
     "data": {
      "text/plain": [
       "Text(0.5, 1.0, 'C param change')"
      ]
     },
     "execution_count": 2,
     "metadata": {},
     "output_type": "execute_result"
    }
   ],
   "source": [
    "\n",
    "film1 = Film(\"BiFeO3\", \"001\", N=70, ttrange=ttrange)\n",
    "%matplotlib widget\n",
    "\n",
    "caxes = []\n",
    "i = 0\n",
    "a = np.linspace( 0.1, -0.1, 10)\n",
    "b = np.linspace( 50, 500, 10)\n",
    "c = np.linspace( 3.5, 4.5, 10)\n",
    "\n",
    "fig, ax = plt.subplots(1,3)\n",
    "\n",
    "\n",
    "for param in a:\n",
    "    \n",
    "    caxis = film1.determine_relaxation(sub1, relaxation='XRDFit', A=param, B=200, D=4.07 ) \n",
    "    ax[0].plot(film1.NN, caxis, label='A = %.2f' % param)\n",
    "\n",
    "ax[0].legend()\n",
    "ax[1].set_title('A param change')\n",
    "\n",
    "for param in b:\n",
    "    \n",
    "    caxis = film1.determine_relaxation(sub1, relaxation='XRDFit', A=-0.07, B=param, D=4.07 ) \n",
    "    ax[1].plot(film1.NN, caxis, label='B = %.2f' % param)\n",
    "\n",
    "ax[1].legend()\n",
    "ax[1].set_title('B param change')\n",
    "\n",
    "for param in c:\n",
    "    \n",
    "    caxis = film1.determine_relaxation(sub1, relaxation='XRDFit', A=-0.3, B=-50, D=param ) \n",
    "    ax[2].plot(film1.NN, caxis, label='C = %.2f' % param)\n",
    "\n",
    "ax[2].legend()\n",
    "ax[1].set_title('C param change')"
   ]
  },
  {
   "cell_type": "markdown",
   "metadata": {},
   "source": [
    "# Input specific cz array for williamson hall plot"
   ]
  },
  {
   "cell_type": "code",
   "execution_count": 3,
   "metadata": {},
   "outputs": [],
   "source": [
    "import numpy as np\n",
    "from matplotlib import pyplot as plt\n",
    "from epytaxy import Film, Substrate\n",
    "from scipy import signal\n",
    "\n",
    "fpath = r'C:\\Users\\olive\\OneDrive - UNSW\\code\\epytaxy\\test\\\\'\n",
    "YAG = np.array( np.loadtxt(fpath + 'YAG.csv', skiprows=1, delimiter=',', usecols=(0,1)) )\n",
    "YAG_ann = np.array( np.loadtxt(fpath + 'YAG_annealed.csv', skiprows=2, delimiter=',', usecols=(0,1)) )\n",
    "Excimer = np.array( np.loadtxt(fpath + 'Excimer.csv', skiprows=1, delimiter=',', usecols=(0,1)) )"
   ]
  },
  {
   "cell_type": "code",
   "execution_count": 38,
   "metadata": {},
   "outputs": [
    {
     "name": "stderr",
     "output_type": "stream",
     "text": [
      "100%|███████████████████████████████████████████████████████████████████████████| 10000/10000 [00:29<00:00, 336.28it/s]\n"
     ]
    },
    {
     "name": "stdout",
     "output_type": "stream",
     "text": [
      "d-spacing is 3.965\n",
      "unit cell volume is 62.33465712499999\n"
     ]
    }
   ],
   "source": [
    "ttrange = (15,115)\n",
    "sub1 = Substrate( \"DyScO3\", \"001\", ttrange=ttrange)\n",
    "film1 = Film(\"BiFeO3\", \"001\", N=100, ttrange=ttrange)\n"
   ]
  },
  {
   "cell_type": "code",
   "execution_count": null,
   "metadata": {},
   "outputs": [],
   "source": [
    "cax = c0 - "
   ]
  },
  {
   "cell_type": "code",
   "execution_count": 78,
   "metadata": {},
   "outputs": [
    {
     "data": {
      "application/vnd.jupyter.widget-view+json": {
       "model_id": "71d542b8e5734616a4c814db4e20fd3b",
       "version_major": 2,
       "version_minor": 0
      },
      "text/plain": [
       "Canvas(toolbar=Toolbar(toolitems=[('Home', 'Reset original view', 'home', 'home'), ('Back', 'Back to previous …"
      ]
     },
     "metadata": {},
     "output_type": "display_data"
    },
    {
     "data": {
      "text/plain": [
       "[<matplotlib.lines.Line2D at 0x283a6af4dc8>]"
      ]
     },
     "execution_count": 78,
     "metadata": {},
     "output_type": "execute_result"
    }
   ],
   "source": [
    "c_strain = [ 3.950, 3.955, 3.960, 3.965, 3.969, 3.973, 3.976, 3.979, 3.982, 3.985, \\\n",
    "             3.987, 3.989, 3.991, 3.994, 3.999, 4.003, 4.007, 4.010, 4.014, 4.018, \\\n",
    "             4.022, 4.025, 4.028, 4.031, 4.034, 4.036, 4.038, 4.040, 4.042, 4.044, \\\n",
    "             4.046, 4.047, 4.048, 4.049, 4.049, 4.049, 4.049, 4.050, 4.050, 4.050]\n",
    "\n",
    "c_const = np.linspace(4.05, 4.05, 60)\n",
    "\n",
    "#c_axes = [ y for x in [c_strain, c_const] for y in x ]\n",
    "#c_axes = np.linspace(3.95, 4.05, 100)\n",
    "%matplotlib widget\n",
    "plt.plot(c_axes)\n"
   ]
  },
  {
   "cell_type": "code",
   "execution_count": 59,
   "metadata": {},
   "outputs": [
    {
     "name": "stdout",
     "output_type": "stream",
     "text": [
      "103.07399252275879\n"
     ]
    },
    {
     "data": {
      "application/vnd.jupyter.widget-view+json": {
       "model_id": "",
       "version_major": 2,
       "version_minor": 0
      },
      "text/plain": [
       "Canvas(toolbar=Toolbar(toolitems=[('Home', 'Reset original view', 'home', 'home'), ('Back', 'Back to previous …"
      ]
     },
     "metadata": {},
     "output_type": "display_data"
    },
    {
     "data": {
      "text/plain": [
       "Text(0.5, 0, 'Unit cell number')"
      ]
     },
     "execution_count": 59,
     "metadata": {},
     "output_type": "execute_result"
    }
   ],
   "source": [
    "FWHM = 0.1\n",
    "amp = np.array(film1.scattering_amplitude(FWHM))/10 \n",
    "\n",
    "\n",
    "\n",
    "\n",
    "# Normalise amplitude values\n",
    "maxVal = np.max(np.abs(amp))\n",
    "print(maxVal)\n",
    "normAmp = amp/np.abs(np.max(amp))\n",
    "\n",
    "#Convolute film G with gaussian\n",
    "filt = signal.gaussian( len(amp), FWHM/(ttrange[1] - ttrange[0]) * len(amp) )\n",
    "ampc = signal.convolve( normAmp, filt, mode='same', method='auto') \n",
    "ampcn = ampc/np.max(np.abs(ampc))\n",
    "#print(np.max(np.abs(amp1cn)))\n",
    "\n",
    "#Restore to initial intensity\n",
    "ampc = ampcn * maxVal\n",
    "\n",
    "scatamp = ampc + sub1.g\n",
    "\n",
    "I = np.real( scatamp * np.conj(scatamp) )/50\n",
    "\n",
    "%matplotlib widget\n",
    "\n",
    "fig, ax = plt.subplots(2)\n",
    "\n",
    "ax[0].plot(film1.ttheta, I)\n",
    "\n",
    "\n",
    "ax[0].set_yscale('log')\n",
    "ax[0].set_title('calculated intensity')\n",
    "ax[0].set_xlabel('2theta (degrees)')\n",
    "ax[0].plot(YAG[:,0], YAG[:,1]/10**4, label='YAG')\n",
    "\n",
    "ax[1].plot(film1.NN, film1.cz)\n",
    "ax[1].set_xticks([5, 10, 15, 20, 25, 30, 35, 40, 45, 50, 55, 60, 65, 70, 75, 80, 85, 90, 95, 100])\n",
    "ax[1].set_title('c-axis profile')\n",
    "ax[1].set_xlabel('Unit cell number')\n",
    "\n"
   ]
  },
  {
   "cell_type": "code",
   "execution_count": 21,
   "metadata": {},
   "outputs": [
    {
     "name": "stdout",
     "output_type": "stream",
     "text": [
      "100.6879723195677\n"
     ]
    },
    {
     "name": "stderr",
     "output_type": "stream",
     "text": [
      "C:\\Users\\olive\\Anaconda3\\lib\\site-packages\\numpy\\core\\numeric.py:538: ComplexWarning: Casting complex values to real discards the imaginary part\n",
      "  return array(a, dtype, copy=False, order=order)\n"
     ]
    },
    {
     "data": {
      "image/png": "[encoded data removed]",
      "text/plain": [
       "<Figure size 432x288 with 1 Axes>"
      ]
     },
     "metadata": {
      "needs_background": "light"
     },
     "output_type": "display_data"
    }
   ],
   "source": [
    "\n",
    "\n",
    "ampl = convolute( amp, 0.1, (15, 115))\n",
    "\n",
    "I = ampl * np.conj(ampl)\n",
    "\n",
    "%matplotlib inline\n",
    "fig, ax = plt.subplots()\n",
    "ax.plot( film1.ttheta, I )\n",
    "ax.set_yscale('log')\n",
    "        "
   ]
  },
  {
   "cell_type": "code",
   "execution_count": 79,
   "metadata": {},
   "outputs": [
    {
     "name": "stderr",
     "output_type": "stream",
     "text": [
      "100%|███████████████████████████████████████████████████████████████████████████| 10000/10000 [00:12<00:00, 801.74it/s]\n",
      "100%|███████████████████████████████████████████████████████████████████████████| 10000/10000 [00:11<00:00, 844.44it/s]\n",
      "100%|███████████████████████████████████████████████████████████████████████████| 10000/10000 [00:12<00:00, 791.39it/s]\n"
     ]
    }
   ],
   "source": [
    "FWHM = 0.1\n",
    "range1 = (20,25)\n",
    "range2 = (43,48)\n",
    "range3 = (69,74)\n",
    "\n",
    "sub1 = Substrate( \"DyScO3\", \"001\", ttrange=range1)\n",
    "sub2 = Substrate( \"DyScO3\", \"001\", ttrange=range2)\n",
    "sub3 = Substrate( \"DyScO3\", \"001\", ttrange=range3)\n",
    "\n",
    "\n",
    "c_strain = [ 3.950, 3.940, 3.930, 3.923, 3.920, 3.923, 3.930, 3.940, 3.950, 3.960, \\\n",
    "             3.970, 3.979, 3.987, 3.994, 3.999, 4.003, 4.007, 4.010, 4.014, 4.018, \\\n",
    "             4.022, 4.025, 4.028, 4.031, 4.034, 4.036, 4.038, 4.040, 4.042, 4.044, \\\n",
    "             4.046, 4.047, 4.048, 4.049, 4.049, 4.049, 4.049, 4.050, 4.050, 4.050]\n",
    "\n",
    "c_const = np.linspace(4.05, 4.05, 60)\n",
    "\n",
    "c_axes = [ y for x in [c_strain, c_const] for y in x ]\n",
    "film1.cz = c_axes\n",
    "\n",
    "\n",
    "#c_const = np.linspace(4.04, 4.05, 70)\n",
    "\n",
    "c_axes = [ y for x in [c_strain, c_const] for y in x ]"
   ]
  },
  {
   "cell_type": "code",
   "execution_count": 71,
   "metadata": {},
   "outputs": [
    {
     "name": "stdout",
     "output_type": "stream",
     "text": [
      "d-spacing is 3.965\n",
      "unit cell volume is 62.33465712499999\n",
      "d-spacing is 3.965\n",
      "unit cell volume is 62.33465712499999\n",
      "d-spacing is 3.965\n",
      "unit cell volume is 62.33465712499999\n",
      "1151.7294174429608\n",
      "1057.5157343587064\n",
      "675.8426648250403\n"
     ]
    },
    {
     "data": {
      "application/vnd.jupyter.widget-view+json": {
       "model_id": "",
       "version_major": 2,
       "version_minor": 0
      },
      "text/plain": [
       "Canvas(toolbar=Toolbar(toolitems=[('Home', 'Reset original view', 'home', 'home'), ('Back', 'Back to previous …"
      ]
     },
     "metadata": {},
     "output_type": "display_data"
    },
    {
     "data": {
      "text/plain": [
       "<matplotlib.legend.Legend at 0x283a1549f48>"
      ]
     },
     "execution_count": 71,
     "metadata": {},
     "output_type": "execute_result"
    }
   ],
   "source": [
    "#c_axes = np.linspace(3.95, 4.05, 100)\n",
    "c_axes = doc\n",
    "film1 = Film(\"BiFeO3\", \"001\", N=106, ttrange=range1)\n",
    "film2 = Film(\"BiFeO3\", \"001\", N=106, ttrange=range2)\n",
    "film3 = Film(\"BiFeO3\", \"001\", N=106, ttrange=range3)\n",
    "\n",
    "film1.cz = c_axes\n",
    "film2.cz = c_axes\n",
    "film3.cz = c_axes\n",
    "#film1.determine_relaxation(sub1, relaxation='XRDFit', A=-0.09, B=200, D=4.07 )\n",
    "#film2.determine_relaxation(sub2, relaxation='XRDFit', A=-0.09, B=200, D=4.07 )\n",
    "#film3.determine_relaxation(sub3, relaxation='XRDFit', A=-0.09, B=200, D=4.07 )\n",
    "\n",
    "\n",
    "amp1 = convolute( np.array(film1.scattering_amplitude(FWHM)), FWHM, range1 )\n",
    "I1 = np.real( amp1 * np.conj(amp1) )\n",
    "\n",
    "amp2 = convolute( np.array(film2.scattering_amplitude(FWHM)), FWHM, range2 )\n",
    "I2 = np.real( amp2 * np.conj(amp2) )\n",
    "\n",
    "amp3 = convolute( np.array(film3.scattering_amplitude(FWHM)), FWHM, range3 )\n",
    "I3 = np.real( amp3 * np.conj(amp3) )\n",
    "\n",
    "%matplotlib widget\n",
    "fig, ax = plt.subplots(1, 3)\n",
    "\n",
    "\n",
    "ax[0].plot( film1.ttheta, I1, label=\"relax\")\n",
    "\n",
    "ax[0].set_yscale('log')\n",
    "ax[0].set_title('(001) peak')\n",
    "ax[1].plot( film2.ttheta, I2, label=\"relax\")\n",
    "\n",
    "ax[1].set_yscale('log')\n",
    "ax[1].set_title('(002) peak')\n",
    "ax[2].plot( film3.ttheta, I3, label=\"relax\")\n",
    "\n",
    "ax[2].set_yscale('log')\n",
    "ax[2].set_title('(003) peak')\n",
    "#ax[1].plot(film1.cz)\n",
    "#ax[1].plot(film2.cz)\n",
    "#ax[0].set_yscale('log')\n",
    "#ax[0].legend()\n",
    "ax[0].legend()\n",
    "ax[1].legend()\n",
    "ax[2].legend()\n"
   ]
  },
  {
   "cell_type": "code",
   "execution_count": 72,
   "metadata": {},
   "outputs": [
    {
     "data": {
      "application/vnd.jupyter.widget-view+json": {
       "model_id": "",
       "version_major": 2,
       "version_minor": 0
      },
      "text/plain": [
       "Canvas(toolbar=Toolbar(toolitems=[('Home', 'Reset original view', 'home', 'home'), ('Back', 'Back to previous …"
      ]
     },
     "metadata": {},
     "output_type": "display_data"
    },
    {
     "data": {
      "text/plain": [
       "<matplotlib.legend.Legend at 0x283a1a34448>"
      ]
     },
     "execution_count": 72,
     "metadata": {},
     "output_type": "execute_result"
    }
   ],
   "source": [
    "\n",
    "FWHM1 = calc_FWHM( film1.ttheta, I1, ax=ax[0])\n",
    "FWHM2 = calc_FWHM( film2.ttheta, I2, ax=ax[1])\n",
    "FWHM3 = calc_FWHM( film3.ttheta, I3, ax=ax[2])\n",
    "\n",
    "fig1, ax1 = plt.subplots()\n",
    "\n",
    "plt.plot( ['001', '002', '003'], [FWHM1, FWHM2, FWHM3], label='with relaxation' )\n",
    "\n",
    "plt.xlabel('Diffraction order')\n",
    "plt.ylabel('FWHM')\n",
    "plt.title(\"Peak broadening without strain gradient\")\n",
    "plt.legend()"
   ]
  },
  {
   "cell_type": "code",
   "execution_count": 68,
   "metadata": {},
   "outputs": [],
   "source": [
    "doc = np.loadtxt('c_axis_parameters_YAG.txt')"
   ]
  },
  {
   "cell_type": "code",
   "execution_count": 70,
   "metadata": {},
   "outputs": [
    {
     "data": {
      "text/plain": [
       "106"
      ]
     },
     "execution_count": 70,
     "metadata": {},
     "output_type": "execute_result"
    }
   ],
   "source": [
    "len(doc)"
   ]
  },
  {
   "cell_type": "code",
   "execution_count": null,
   "metadata": {},
   "outputs": [],
   "source": []
  }
 ],
 "metadata": {
  "kernelspec": {
   "display_name": "Python 3",
   "language": "python",
   "name": "python3"
  },
  "language_info": {
   "codemirror_mode": {
    "name": "ipython",
    "version": 3
   },
   "file_extension": ".py",
   "mimetype": "text/x-python",
   "name": "python",
   "nbconvert_exporter": "python",
   "pygments_lexer": "ipython3",
   "version": "3.7.4"
  }
 },
 "nbformat": 4,
 "nbformat_minor": 4
}
