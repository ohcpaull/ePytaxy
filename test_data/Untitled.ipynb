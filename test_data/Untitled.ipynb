{
 "cells": [
  {
   "cell_type": "code",
   "execution_count": 67,
   "metadata": {},
   "outputs": [
    {
     "name": "stdout",
     "output_type": "stream",
     "text": [
      "6.4202\n",
      "1.1151000000001103\n",
      "[1.41641397 1.41781604 1.41921806 ... 1.41921806 1.41781604 1.41641397]\n"
     ]
    },
    {
     "name": "stderr",
     "output_type": "stream",
     "text": [
      "C:\\Users\\olive\\Anaconda3\\lib\\site-packages\\ipykernel_launcher.py:8: DeprecationWarning: object of type <class 'float'> cannot be safely interpreted as an integer.\n",
      "  \n"
     ]
    }
   ],
   "source": [
    "\n",
    "\n",
    "\n",
    "\n",
    "theta = np.linspace(10,170,(170-10)/0.01)\n",
    "Q = 4 * np.pi / 1.5406 * np.sin( np.radians(theta) )\n",
    "QQ = Q**2\n",
    "\n",
    "\n",
    "\n",
    "\n",
    "\n",
    "\n",
    "#[0] - a1, [1] - b1, [2] - a2, [3] - b2, [4] - a3, [5] - b3, [6] - a4, [7] - b4, [8] - c\n",
    "element_factors = {\n",
    "    \"Al\" : [ 6.42020, 3.03870, 1.90020, 0.742600, 1.59360, 31.54720, 1.96460, 85.0886, 1.11510 ],\n",
    "    \"Ba\" : [ 20.3361, 3.21600, 19.2970, 0.275600, 10.8880, 20.20730, 2.69590, 167.202, 2.77310 ],\n",
    "    \"Bi\" : [ 33.3689, 0.70400, 12.9510, 2.923800, 16.5877, 8.793700, 6.46920, 48.0093, 13.5782 ],\n",
    "    \"Ca\" : [ 8.62660, 10.4421, 7.38730, 0.659900, 1.58990, 85.74840, 1.02110, 178.437, 1.37510 ],\n",
    "    \"Cu\" : [ 13.3380, 3.58280, 7.16760, 0.247000, 5.61580, 11.39660, 1.67350, 64.8126, 1.19100 ],\n",
    "    \"Dy\" : [ 26.5070, 2.18020, 17.6383, 0.202172, 14.5596, 12.18990, 2.96577, 111.874, 4.29728 ],\n",
    "    \"Fe\" : [ 11.7695, 4.76110, 7.35730, 0.307200, 3.52220, 15.35350, 2.30450, 76.8805, 1.03690 ],\n",
    "    \"Ga\" : [ 15.2354, 3.06690, 6.70060, 0.241200, 4.35910, 10.78050, 2.96230, 61.4135, 1.71890 ],\n",
    "    \"Gd\" : [ 25.0709, 2.25341, 19.0798, 0.181951, 13.8518, 12.93310, 3.54545, 101.398, 2.41960 ],\n",
    "    \"K\"  : [ 8.21860, 12.7949, 7.43980, 0.774800, 1.05190, 213.1870, 0.86590, 41.6841, 1.4228  ],\n",
    "    \"La\" : [ 20.5780, 2.94817, 19.5990, 0.244475, 11.3727, 18.77260, 3.28719, 133.124, 2.14678 ],\n",
    "    \"Mn\" : [ 11.2819, 5.34090, 7.35730, 0.343200, 3.01930, 17.86740, 2.24410, 83.7543, 1.08960 ],\n",
    "    \"Nd\" : [ 22.6845, 2.66248, 19.6847, 0.210628, 12.7740, 15.88500, 2.85137, 137.903, 1.98486 ],\n",
    "    \"Ni\" : [ 12.8376, 3.87850, 7.29200, 0.256500, 4.44380, 12.17630, 2.38000, 66.3421, 1.03410 ],\n",
    "    \"O\"  : [ 3.04850, 13.2771, 2.28680, 5.701100, 1.54630, 0.323900, 0.86700, 32.9089, 0.25080 ],\n",
    "    \"Pb\" : [ 31.0617, 0.69020, 13.0637, 2.357600, 18.4420, 8.618000, 5.96960, 47.2579, 13.41180],\n",
    "    \"Pb2+\":[ 21.7886, 1.33660, 19.5682, 0.488383, 19.1406, 6.772700, 7.01107, 23.8132, 12.4734 ],\n",
    "    \"Pr\" : [ 22.0440, 2.77393, 19.6697, 0.222087, 12.3856, 16.76690, 2.82428, 143.644, 2.05830 ],\n",
    "    \"Ru\" : [ 19.2674, 0.80852, 12.9182, 8.434670, 4.86337, 24.79970, 1.56756, 94.2928, 5.37874 ],\n",
    "    \"Sc\" : [ 9.18900, 9.02130, 7.36790, 0.572900, 1.64090, 136.1080, 1.46800, 51.3531, 1.33290 ],\n",
    "    \"Si\" : [ 6.29150, 2.43860, 3.03530, 32.33370, 1.98910, 0.678500, 1.54100, 81.6937, 1.14070 ],\n",
    "    \"Sm\" : [ 24.0042, 2.47274, 19.4258, 0.196451, 13.4396, 14.39960, 2.89604, 128.007, 2.20963 ],\n",
    "    \"Sr\" : [ 17.5663, 1.55640, 9.81840, 14.09880, 5.42200, 0.166400, 2.66940, 132.376, 2.50640 ],\n",
    "    \"Ta\" : [ 29.2024, 1.77333, 15.2293, 9.370460, 14.5135, 0.295977, 4.76492, 63.3644, 9.24354 ],\n",
    "    \"Tb\" : [ 25.8976, 2.24256, 18.2185, 0.196143, 14.3167, 12.66480, 2.95354, 115.362, 3.58024 ],\n",
    "    \"Ti\" : [ 9.75950, 7.85080, 7.35580, 0.500000, 1.69910, 35.63380, 1.90210, 116.105, 1.28070 ],\n",
    "    \"Ti4+\":[ 19.5114, 0.17884, 8.23473, 6.670180, 2.01341, -0.29263, 1.52080, 12.9464, -13.280 ],\n",
    "    \"V\"  : [ 10.2971, 6.86570, 7.35110, 0.438500, 2.07030, 26.89380, 2.05710, 102.478, 1.21990 ],\n",
    "    \"Y\"  : [ 17.7760, 1.40290, 10.2946, 12.80060, 5.72629, 0.125599, 3.26588, 104.354, 1.91213 ],\n",
    "    \"Zr\" : [ 17.8765, 1.27618, 10.9480, 11.91600, 5.41732, 0.117622, 3.65721, 87.6627, 2.06929 ]\n",
    "}\n",
    "\n",
    "AB_atoms = {\n",
    "    \"BaTiO3\" : [\"Ba\", \"Ti\"],\n",
    "    \"BiFeO3\" : [\"Bi\", \"Fe\"],\n",
    "    \"LaAlO3\" : [\"La\", \"Al\"],\n",
    "    \"LaFeO3\" : [\"La\", \"Fe\"],\n",
    "    \"LaMnO3\" : [\"La\", \"Mn\"],\n",
    "    \"LaNiO3\" : [\"La\", \"Ni\"],\n",
    "    \"LSMO\"   : [\"La\", \"Sr\", \"Mn\"],\n",
    "    \"MnTiO3\" : [\"Mn\", \"Ti\"],\n",
    "    \"NdNiO3\" : [\"Nd\", \"Ni\"],\n",
    "    \"PbTiO3\" : [\"Pb\", \"Ti\"],\n",
    "    \"(Pb_x,Sr_{1-x})TiO3\" : [\"Pb\", \"Sr\", \"Ti\"],\n",
    "    \"Pb(Zr_x,Ti_{1-x})O3\" : [\"Pb\", \"Zr\", \"Ti\"],\n",
    "    \"SmNiO3\" : [\"Sm\", \"Ni\"],\n",
    "    \"SrRuO3\" : [\"Sr\", \"Ru\"],\n",
    "    \"SrTiO3\" : [\"Sr\", \"Ti\"] \n",
    "}\n",
    "\n",
    "\n",
    "\n",
    "\n",
    "print(elmnt_factrs[\"Al\"][0])\n",
    "\n",
    "factor_Al = atomic_scattering_factor( QQ, element_factors[\"Al\"][0], element_factors[\"Al\"][1], element_factors[\"Al\"][2], \\\n",
    "                                    element_factors[\"Al\"][3], element_factors[\"Al\"][4], element_factors[\"Al\"][5], \\\n",
    "                                    element_factors[\"Al\"][6], element_factors[\"Al\"][7], element_factors[\"Al\"][8] )\n",
    "print(min(factor_Al))\n",
    "print(Q)"
   ]
  },
  {
   "cell_type": "code",
   "execution_count": 62,
   "metadata": {},
   "outputs": [],
   "source": [
    "import numpy as np\n",
    "import matplotlib as mpl\n",
    "from matplotlib import pyplot as plt\n",
    "import scipy.io\n",
    "\n",
    "class Substrate(object): \n",
    "    def __init__(self, sub_mat, orientation):\n",
    "        c_axis = {\n",
    "            \"DyScO3\" : 3.9403,\n",
    "            \"GdScO3\" : 3.9636,\n",
    "            \"KTaO3\"  : 3.989,\n",
    "            \"LaAlO3\" : 3.789,\n",
    "            \"LSAT\"   : 3.868,\n",
    "            \"NdAlO3\" : 3.74,\n",
    "            \"NdGaO3\" : 3.864,\n",
    "            \"SrTiO3\" : 3.905,\n",
    "            \"YAlO3\"  : 3.71\n",
    "        }\n",
    "        \n",
    "        self.sub = sub_mat\n",
    "        self.ori = orientation\n",
    "        self.prefix = 'gsubstrate'\n",
    "        substrates = scipy.io.loadmat('Substrates.mat')\n",
    "        \n",
    "        if ( self.prefix + self.sub + self.ori ) in substrates:\n",
    "            self.g = substrates[ self.prefix + self.sub + self.ori ]\n",
    "        else:\n",
    "            print('Invalid substrate!')\n",
    "            \n",
    "        self.c = c_axis[self.sub] \n",
    "        self.N001 = 2e+4\n",
    "        self.d111 = self.c / np.sqrt(3)\n",
    "        self.N111 = self.N001 * np.sqrt(3)\n",
    "        \n",
    "        \n",
    "\n",
    "    \n",
    "class Film(object):\n",
    "    def __init__(self, film_mat, orientation ):\n",
    "        self.ttheta = np.linspace(0, 180.01, 180.01/0.01)\n",
    "        self.Q = 4 * np.pi / 1.5406 * np.sin( np.radians( self.ttheta/2 ) )\n",
    "        self.QQ = self.Q * self.Q\n",
    "        self.film = film_mat\n",
    "        self.ori = orientation\n",
    "        self.c = []\n",
    "        \n",
    "        \n",
    "        \n",
    "        #volume = self.c**3\n",
    "        \n",
    "        \n",
    "        \n",
    "        self.atom_posns = []     # z-positions of atoms in a cubic perovskite structure\n",
    "        self.atom_posns.append(0)     #A\n",
    "        self.atom_posns.append(0.5)   #B\n",
    "        self.atom_posns.append(0)     #O1\n",
    "        self.atom_posns.append(0.5)   #O2\n",
    "        self.atom_posns.append(0.5)   #O3\n",
    "        \n",
    "        self.element_factors = {\n",
    "            #      [0] - a1, [1] - b1, [2] - a2, [3] - b2, [4] - a3, [5] - b3, [6] - a4, [7] - b4, [8] - c\n",
    "            \"Al\" : [ 6.42020, 3.03870, 1.90020, 0.742600, 1.59360, 31.54720, 1.96460, 85.0886, 1.11510 ],\n",
    "            \"Ba\" : [ 20.3361, 3.21600, 19.2970, 0.275600, 10.8880, 20.20730, 2.69590, 167.202, 2.77310 ],\n",
    "            \"Bi\" : [ 33.3689, 0.70400, 12.9510, 2.923800, 16.5877, 8.793700, 6.46920, 48.0093, 13.5782 ],\n",
    "            \"Ca\" : [ 8.62660, 10.4421, 7.38730, 0.659900, 1.58990, 85.74840, 1.02110, 178.437, 1.37510 ],\n",
    "            \"Cu\" : [ 13.3380, 3.58280, 7.16760, 0.247000, 5.61580, 11.39660, 1.67350, 64.8126, 1.19100 ],\n",
    "            \"Dy\" : [ 26.5070, 2.18020, 17.6383, 0.202172, 14.5596, 12.18990, 2.96577, 111.874, 4.29728 ],\n",
    "            \"Fe\" : [ 11.7695, 4.76110, 7.35730, 0.307200, 3.52220, 15.35350, 2.30450, 76.8805, 1.03690 ],\n",
    "            \"Ga\" : [ 15.2354, 3.06690, 6.70060, 0.241200, 4.35910, 10.78050, 2.96230, 61.4135, 1.71890 ],\n",
    "            \"Gd\" : [ 25.0709, 2.25341, 19.0798, 0.181951, 13.8518, 12.93310, 3.54545, 101.398, 2.41960 ],\n",
    "            \"K\"  : [ 8.21860, 12.7949, 7.43980, 0.774800, 1.05190, 213.1870, 0.86590, 41.6841, 1.4228  ],\n",
    "            \"La\" : [ 20.5780, 2.94817, 19.5990, 0.244475, 11.3727, 18.77260, 3.28719, 133.124, 2.14678 ],\n",
    "            \"Mn\" : [ 11.2819, 5.34090, 7.35730, 0.343200, 3.01930, 17.86740, 2.24410, 83.7543, 1.08960 ],\n",
    "            \"Nd\" : [ 22.6845, 2.66248, 19.6847, 0.210628, 12.7740, 15.88500, 2.85137, 137.903, 1.98486 ],\n",
    "            \"Ni\" : [ 12.8376, 3.87850, 7.29200, 0.256500, 4.44380, 12.17630, 2.38000, 66.3421, 1.03410 ],\n",
    "            \"O\"  : [ 3.04850, 13.2771, 2.28680, 5.701100, 1.54630, 0.323900, 0.86700, 32.9089, 0.25080 ],\n",
    "            \"Pb\" : [ 31.0617, 0.69020, 13.0637, 2.357600, 18.4420, 8.618000, 5.96960, 47.2579, 13.4118 ],\n",
    "            \"Pb2+\":[ 21.7886, 1.33660, 19.5682, 0.488383, 19.1406, 6.772700, 7.01107, 23.8132, 12.4734 ],\n",
    "            \"Pr\" : [ 22.0440, 2.77393, 19.6697, 0.222087, 12.3856, 16.76690, 2.82428, 143.644, 2.05830 ],\n",
    "            \"Ru\" : [ 19.2674, 0.80852, 12.9182, 8.434670, 4.86337, 24.79970, 1.56756, 94.2928, 5.37874 ],\n",
    "            \"Sc\" : [ 9.18900, 9.02130, 7.36790, 0.572900, 1.64090, 136.1080, 1.46800, 51.3531, 1.33290 ],\n",
    "            \"Si\" : [ 6.29150, 2.43860, 3.03530, 32.33370, 1.98910, 0.678500, 1.54100, 81.6937, 1.14070 ],\n",
    "            \"Sm\" : [ 24.0042, 2.47274, 19.4258, 0.196451, 13.4396, 14.39960, 2.89604, 128.007, 2.20963 ],\n",
    "            \"Sr\" : [ 17.5663, 1.55640, 9.81840, 14.09880, 5.42200, 0.166400, 2.66940, 132.376, 2.50640 ],\n",
    "            \"Ta\" : [ 29.2024, 1.77333, 15.2293, 9.370460, 14.5135, 0.295977, 4.76492, 63.3644, 9.24354 ],\n",
    "            \"Tb\" : [ 25.8976, 2.24256, 18.2185, 0.196143, 14.3167, 12.66480, 2.95354, 115.362, 3.58024 ],\n",
    "            \"Ti\" : [ 9.75950, 7.85080, 7.35580, 0.500000, 1.69910, 35.63380, 1.90210, 116.105, 1.28070 ],\n",
    "            \"Ti4+\":[ 19.5114, 0.17884, 8.23473, 6.670180, 2.01341, -0.29263, 1.52080, 12.9464, -13.280 ],\n",
    "            \"V\"  : [ 10.2971, 6.86570, 7.35110, 0.438500, 2.07030, 26.89380, 2.05710, 102.478, 1.21990 ],\n",
    "            \"Y\"  : [ 17.7760, 1.40290, 10.2946, 12.80060, 5.72629, 0.125599, 3.26588, 104.354, 1.91213 ],\n",
    "            \"Zr\" : [ 17.8765, 1.27618, 10.9480, 11.91600, 5.41732, 0.117622, 3.65721, 87.6627, 2.06929 ]\n",
    "        }\n",
    "        \n",
    "        self.AB_atoms = {\n",
    "            \"BaTiO3\" : [\"Ba\", \"Ti\"],\n",
    "            \"BiFeO3\" : [\"Bi\", \"Fe\"],\n",
    "            \"LaAlO3\" : [\"La\", \"Al\"],\n",
    "            \"LaFeO3\" : [\"La\", \"Fe\"],\n",
    "            \"LaMnO3\" : [\"La\", \"Mn\"],\n",
    "            \"LaNiO3\" : [\"La\", \"Ni\"],\n",
    "            \"LSMO\"   : [\"La\", \"Sr\", \"Mn\"],\n",
    "            \"MnTiO3\" : [\"Mn\", \"Ti\"],\n",
    "            \"NdNiO3\" : [\"Nd\", \"Ni\"],\n",
    "            \"PbTiO3\" : [\"Pb\", \"Ti\"],\n",
    "            \"(Pb_x,Sr_{1-x})TiO3\" : [\"Pb\", \"Sr\", \"Ti\"],\n",
    "            \"Pb(Zr_x,Ti_{1-x})O3\" : [\"Pb\", \"Zr\", \"Ti\"],\n",
    "            \"SmNiO3\" : [\"Sm\", \"Ni\"],\n",
    "            \"SrRuO3\" : [\"Sr\", \"Ru\"],\n",
    "            \"SrTiO3\" : [\"Sr\", \"Ti\"] \n",
    "        }\n",
    "        \n",
    "    def atomic_scattering_factor( self, QQ, a1, b1, a2, b2, a3, b3, a4, b4, c ):\n",
    "        return ( a1 * np.exp( -b1 * QQ * np.pi**2/16 ) + a2 * np.exp( -b2 * QQ * np.pi**2/16 ) + \\\n",
    "                a3 * np.exp( -b3 * QQ * np.pi**2/16 )+ a4 * np.exp( -b4 * QQ * np.pi**2/16) + c )\n",
    "    \n",
    "    def structure_factor( self, fA, fB, fO, Q, z, c):\n",
    "        f = fA * np.exp( 1j*Q*z[0]*c ) + fB * np.exp( 1j*Q*z[1]*c ) + fO * np.exp( 1j * Q * z[2] * c ) + \\\n",
    "                                fO * np.exp( 1j * Q * z[3] * c ) + fO * np.exp( 1j * Q * z[4] * c )\n",
    "        return f\n",
    "    \n",
    "    def SF_monolayer( self, c ):\n",
    "        if (len(self.AB_atoms[self.film]) == 2):\n",
    "            A = self.element_factors[self.AB_atoms[self.film][0]]\n",
    "            B = self.element_factors[self.AB_atoms[self.film][1]]\n",
    "            O = self.element_factors[\"O\"]\n",
    "            \n",
    "            self.fA = self.atomic_scattering_factor( self.QQ, A[0], A[1], A[2], A[3], A[4], A[5], A[6], A[7], A[8] )\n",
    "            self.fB = self.atomic_scattering_factor( self.QQ, B[0], B[1], B[2], B[3], B[4], B[5], B[6], B[7], B[8] )\n",
    "            self.fO = self.atomic_scattering_factor( self.QQ, O[0], O[1], O[2], O[3], O[4], O[5], O[6], O[7], O[8] )\n",
    "            \n",
    "            f_ML = self.structure_factor( self.fA, self.fB, self.fO, self.Q, self.atom_posns, c )\n",
    "            return f_ML\n",
    "        else:\n",
    "            x = input(\"Input x for composition: \")\n",
    "            if self.film == \"(Pb_x,Sr_{1-x})TiO3\":\n",
    "                A1 = self.element_factors[self.AB_atoms[self.film][0]] \n",
    "                A2 = self.element_factors[self.AB_atoms[self.film][1]]\n",
    "                B = self.element_factors[self.AB_atoms[self.film][2]]\n",
    "                O = self.element_factors[\"O\"]\n",
    "                \n",
    "                self.fA = self.atomic_scattering_factor( self.QQ, A1[0], A1[1], A1[2], A1[3], \\\n",
    "                                                   A1[4], A1[5], A1[6], A1[7], A1[8] ) * x + \\\n",
    "                          self.atomic_scattering_factor( self.QQ, A2[0], A2[1], A2[2], A2[3], \\\n",
    "                                                   A2[4], A2[5], A2[6], A2[7], A2[8] ) * (1-x)\n",
    "                self.fB = self.atomic_scattering_factor( self.QQ, B[0], B[1], B[2], B[3], B[4], B[5], B[6], B[7], B[8] )\n",
    "                self.fO = self.atomic_scattering_factor( self.QQ, O[0], O[1], O[2], O[3], O[4], O[5], O[6], O[7], O[8] )\n",
    "                \n",
    "                f_ML = self.structure_factor( self.fA, self.fB, self.fO, self.Q, self.atom_posns, c )\n",
    "                return f_ML\n",
    "            elif self.film == \"Pb(Zr_x,Ti_{1-x})O3\":\n",
    "                A = self.element_factors[self.AB_atoms[self.film][0]] \n",
    "                B1 = self.element_factors[self.AB_atoms[self.film][1]] \n",
    "                B2 = self.element_factors[self.AB_atoms[self.film][2]]            \n",
    "                O = self.element_factors[\"O\"]                \n",
    "            \n",
    "                self.fA = self.atomic_scattering_factor( self.QQ, A[0], A[1], A[2], A[3], A[4], A[5], A[6], A[7], A[8] )\n",
    "                self.fB = self.atomic_scattering_factor( self.QQ, B1[0], B1[1], B1[2], B1[3], \\\n",
    "                                                   B1[4], B1[5], B1[6], B1[7], B1[8] ) * x + \\\n",
    "                          self.atomic_scattering_factor( self.QQ, B2[0], B2[1], B2[2], B2[3], \\\n",
    "                                                   B2[4], B2[5], B2[6], B2[7], B2[8] ) * (1-x)\n",
    "                self.fO = self.atomic_scattering_factor( self.QQ, O[0], O[1], O[2], O[3], O[4], O[5], O[6], O[7], O[8] )\n",
    "                \n",
    "                f_ML = self.structure_factor( self.fA, self.fB, self.fO, self.Q, self.atom_posns, c )\n",
    "                return f_ML\n",
    "            return\n",
    "        return\n",
    "        \n",
    "    def scattering_amplitude( self, A, B, D ):\n",
    "        mu = 1.5e4 #attenuation factor to correct for absorption\n",
    "        uc = 0\n",
    "        ampl = 0\n",
    "        \n",
    "        self.cax = [ A*np.exp(i/B) + D for i in range(0,N) ]\n",
    "        tot_thickness = sum(self.cax) + 10000\n",
    "        for i in range(0,N):\n",
    "            uc = uc + self.cax[i]\n",
    "            struct_fact = self.SF_monolayer( self.cax[i] )\n",
    "            ampl = ampl + struct_fact * np.exp( 1j * self.Q * uc ) * np.exp( - (tot_thickness - uc) / mu )\n",
    "        return ampl\n",
    "        \n",
    "            \n",
    "            "
   ]
  },
  {
   "cell_type": "code",
   "execution_count": null,
   "metadata": {},
   "outputs": [
    {
     "name": "stderr",
     "output_type": "stream",
     "text": [
      "C:\\Users\\olive\\Anaconda3\\lib\\site-packages\\ipykernel_launcher.py:40: DeprecationWarning: object of type <class 'float'> cannot be safely interpreted as an integer.\n"
     ]
    }
   ],
   "source": [
    "N = 50\n",
    "NN = np.linspace( 0, 50, 50 )\n",
    "substrate = Substrate( \"SrTiO3\", \"001\")\n",
    "film = Film(\"BiFeO3\", \"001\")\n",
    "film_G = film.scattering_amplitude( -0.07, 200, 4.1 )/N\n",
    "\n",
    "scatter = substrate.g + film_G\n",
    "\n",
    "I = scatter * np.conj(scatter)\n",
    "\n",
    "%matplotlib notebook\n",
    "fig, ax = plt.subplots(1, 2)\n",
    "\n",
    "ax[0].plot(film.ttheta, I[0])\n",
    "#ax.set_xlim(20, 50)\n",
    "ax[0].set_yscale('log')\n",
    "\n",
    "ax2[1].plot(NN, film.cax)"
   ]
  },
  {
   "cell_type": "code",
   "execution_count": 54,
   "metadata": {},
   "outputs": [],
   "source": [
    "\n",
    "I = substrate.g * np.conj(substrate.g)\n",
    "\n",
    "\n"
   ]
  },
  {
   "cell_type": "code",
   "execution_count": 110,
   "metadata": {
    "scrolled": false
   },
   "outputs": [
    {
     "data": {
      "image/png": "[encoded data removed]",
      "text/plain": [
       "<Figure size 432x288 with 1 Axes>"
      ]
     },
     "metadata": {
      "needs_background": "light"
     },
     "output_type": "display_data"
    }
   ],
   "source": [
    "fig, ax = plt.subplots()\n",
    "\n",
    "ax.plot(film.theta, I[0])\n",
    "ax.set_yscale('log')"
   ]
  },
  {
   "cell_type": "code",
   "execution_count": 46,
   "metadata": {},
   "outputs": [
    {
     "data": {
      "text/plain": [
       "[<matplotlib.lines.Line2D at 0x159ae2b96c8>]"
      ]
     },
     "execution_count": 46,
     "metadata": {},
     "output_type": "execute_result"
    },
    {
     "data": {
      "image/png": "[encoded data removed]",
      "text/plain": [
       "<Figure size 432x288 with 1 Axes>"
      ]
     },
     "metadata": {
      "needs_background": "light"
     },
     "output_type": "display_data"
    }
   ],
   "source": [
    "plt.plot(factor_Al)\n"
   ]
  },
  {
   "cell_type": "code",
   "execution_count": 25,
   "metadata": {},
   "outputs": [
    {
     "name": "stdout",
     "output_type": "stream",
     "text": [
      "lel\n"
     ]
    }
   ],
   "source": [
    "\n",
    "\n",
    "prefix = 'gsubstrate'\n",
    "key = 'DyScO3'\n",
    "ori = '001'\n",
    "#if (prefix + key + ori) in substrates:\n",
    "#    substrate = substrates[prefix+key+ori]\n",
    "    \n",
    "    #F=fA.*exp(1i*(Q.*z(1).*c)) + fB.*exp(1i*(Q.*z(2).*c))+fO.*exp(1i*(Q.*z(3).*c))+fO.*exp(1i*(Q.*z(4).*c))+fO.*exp(1i*(Q.*z(5).*c));\n",
    "if ( key == 'DyScO3' or key == 'GdScO3' or key == 'KTaO3' or key == 'LaAlO3' or key == 'LSAT' \\\n",
    "    or key == 'NdAlO3' or key == 'NdGaO3' or key == 'SrTiO3' or key == 'YAlO3' ):\n",
    "    print('lel')\n"
   ]
  },
  {
   "cell_type": "code",
   "execution_count": null,
   "metadata": {},
   "outputs": [],
   "source": []
  }
 ],
 "metadata": {
  "kernelspec": {
   "display_name": "Python 3",
   "language": "python",
   "name": "python3"
  },
  "language_info": {
   "codemirror_mode": {
    "name": "ipython",
    "version": 3
   },
   "file_extension": ".py",
   "mimetype": "text/x-python",
   "name": "python",
   "nbconvert_exporter": "python",
   "pygments_lexer": "ipython3",
   "version": "3.7.4"
  }
 },
 "nbformat": 4,
 "nbformat_minor": 2
}
