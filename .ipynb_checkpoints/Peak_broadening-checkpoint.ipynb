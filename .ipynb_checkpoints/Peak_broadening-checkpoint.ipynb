{
 "cells": [
  {
   "cell_type": "code",
   "execution_count": 1,
   "metadata": {},
   "outputs": [],
   "source": [
    "import numpy as np\n",
    "from matplotlib import pyplot as plt\n",
    "from epytaxy import Film, Substrate\n",
    "\n",
    "\n",
    "\n"
   ]
  },
  {
   "cell_type": "code",
   "execution_count": 15,
   "metadata": {},
   "outputs": [],
   "source": [
    "fpath = r'C:\\Users\\olive\\OneDrive - UNSW\\code\\epytaxy\\test\\\\'\n",
    "YAG = np.array( np.loadtxt(fpath + 'YAG.csv', skiprows=1, delimiter=',', usecols=(0,1)) )\n",
    "YAG_ann = np.array( np.loadtxt(fpath + 'YAG_annealed.csv', skiprows=2, delimiter=',', usecols=(0,1)) )\n",
    "Excimer = np.array( np.loadtxt(fpath + 'Excimer.csv', skiprows=1, delimiter=',', usecols=(0,1)) )"
   ]
  },
  {
   "cell_type": "code",
   "execution_count": 2,
   "metadata": {},
   "outputs": [
    {
     "name": "stderr",
     "output_type": "stream",
     "text": [
      "100%|███████████████████████████████████████████████████████████████████████████| 10000/10000 [00:11<00:00, 877.92it/s]\n"
     ]
    }
   ],
   "source": [
    "substrate = Substrate( \"DyScO3\", \"001\")\n",
    "\n",
    "#I = substrate.g * np.conj(substrate.g)\n",
    "#I = I/max(I)"
   ]
  },
  {
   "cell_type": "code",
   "execution_count": 5,
   "metadata": {},
   "outputs": [
    {
     "name": "stdout",
     "output_type": "stream",
     "text": [
      "d-spacing is 3.965\n",
      "unit cell volume is 62.33465712499999\n",
      "-58.36965712499999\n",
      "d-spacing is 3.965\n",
      "unit cell volume is 62.33465712499999\n",
      "-58.36965712499999\n"
     ]
    }
   ],
   "source": [
    "film1 = Film(\"BiFeO3\", \"001\")\n",
    "film1.determine_relaxation( substrate, relaxation='None' )\n",
    "film1_G = np.array(film1.scattering_amplitude()) \n",
    "\n",
    "film2 = Film(\"BiFeO3\", \"001\")\n",
    "film2.determine_relaxation( substrate, relaxation='XRDFit' )\n",
    "film2_G = np.array(film2.scattering_amplitude()) \n",
    "\n"
   ]
  },
  {
   "cell_type": "code",
   "execution_count": 6,
   "metadata": {},
   "outputs": [],
   "source": [
    "scatter1 = substrate.g + film1_G #conv_ampl\n",
    "scatter2 = substrate.g + film2_G #conv_ampl\n",
    "\n",
    "#film_Ic = conv_ampl*np.conj(conv_ampl)\n",
    "#film_I = film_G * np.conj(film_G)\n",
    "I1 = scatter1 * np.conj(scatter1)\n",
    "I2 = scatter2 * np.conj(scatter2)\n"
   ]
  },
  {
   "cell_type": "code",
   "execution_count": 16,
   "metadata": {},
   "outputs": [
    {
     "data": {
      "application/vnd.jupyter.widget-view+json": {
       "model_id": "52de91b252b44306969690f4d9bfc479",
       "version_major": 2,
       "version_minor": 0
      },
      "text/plain": [
       "Canvas(toolbar=Toolbar(toolitems=[('Home', 'Reset original view', 'home', 'home'), ('Back', 'Back to previous …"
      ]
     },
     "metadata": {},
     "output_type": "display_data"
    },
    {
     "name": "stderr",
     "output_type": "stream",
     "text": [
      "C:\\Users\\olive\\Anaconda3\\lib\\site-packages\\numpy\\core\\numeric.py:538: ComplexWarning: Casting complex values to real discards the imaginary part\n",
      "  return array(a, dtype, copy=False, order=order)\n"
     ]
    },
    {
     "data": {
      "text/plain": [
       "[<matplotlib.lines.Line2D at 0x1ad599f3708>]"
      ]
     },
     "execution_count": 16,
     "metadata": {},
     "output_type": "execute_result"
    }
   ],
   "source": [
    "%matplotlib widget\n",
    "fig, ax = plt.subplots(1,2)\n",
    "\n",
    "ax[0].plot(YAG[:,0], YAG[:,1]/10**3, label='YAG')\n",
    "#ax.plot(YAG_ann[:,0], YAG_ann[:,1], label='YAG annealed')\n",
    "#ax.plot(Excimer[:,0], Excimer[:,1]/10**6, label='Excimer')\n",
    "ax[0].plot(film1.ttheta, I1, label='No relaxation', color='blue')\n",
    "ax[0].plot(film2.ttheta, I2, label='relaxation', color='red')\n",
    "\n",
    "ax[0].set_yscale('log')\n",
    "ax[0].legend()\n",
    "\n",
    "\n",
    "ax[1].plot(film1.cz)\n",
    "ax[1].plot(film2.cz)\n"
   ]
  },
  {
   "cell_type": "code",
   "execution_count": 13,
   "metadata": {},
   "outputs": [
    {
     "data": {
      "text/plain": [
       "array([ 15.005,  15.015,  15.025, ..., 114.975, 114.985, 114.995])"
      ]
     },
     "execution_count": 13,
     "metadata": {},
     "output_type": "execute_result"
    }
   ],
   "source": [
    "dat1[:,0]"
   ]
  },
  {
   "cell_type": "code",
   "execution_count": 30,
   "metadata": {},
   "outputs": [],
   "source": []
  },
  {
   "cell_type": "code",
   "execution_count": null,
   "metadata": {},
   "outputs": [],
   "source": []
  }
 ],
 "metadata": {
  "kernelspec": {
   "display_name": "Python 3",
   "language": "python",
   "name": "python3"
  },
  "language_info": {
   "codemirror_mode": {
    "name": "ipython",
    "version": 3
   },
   "file_extension": ".py",
   "mimetype": "text/x-python",
   "name": "python",
   "nbconvert_exporter": "python",
   "pygments_lexer": "ipython3",
   "version": "3.7.4"
  }
 },
 "nbformat": 4,
 "nbformat_minor": 4
}
